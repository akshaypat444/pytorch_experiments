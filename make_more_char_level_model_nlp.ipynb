{
  "nbformat": 4,
  "nbformat_minor": 0,
  "metadata": {
    "colab": {
      "provenance": [],
      "authorship_tag": "ABX9TyNBpVHQUDWCzaSqjrny7RzV",
      "include_colab_link": true
    },
    "kernelspec": {
      "name": "python3",
      "display_name": "Python 3"
    },
    "language_info": {
      "name": "python"
    }
  },
  "cells": [
    {
      "cell_type": "markdown",
      "metadata": {
        "id": "view-in-github",
        "colab_type": "text"
      },
      "source": [
        "<a href=\"https://colab.research.google.com/github/akshaypat444/pytorch_experiments/blob/main/make_more_char_level_model_nlp.ipynb\" target=\"_parent\"><img src=\"https://colab.research.google.com/assets/colab-badge.svg\" alt=\"Open In Colab\"/></a>"
      ]
    },
    {
      "cell_type": "markdown",
      "source": [
        "# MakeMore Character Level Modeling"
      ],
      "metadata": {
        "id": "CSbONW0qY8g5"
      }
    },
    {
      "cell_type": "code",
      "execution_count": 1,
      "metadata": {
        "id": "bRBRVUmCoorJ",
        "colab": {
          "base_uri": "https://localhost:8080/"
        },
        "outputId": "6a2ae94c-a94e-4789-b257-b8846d6e7734"
      },
      "outputs": [
        {
          "output_type": "stream",
          "name": "stdout",
          "text": [
            "--2024-07-27 02:41:21--  https://raw.githubusercontent.com/karpathy/makemore/master/names.txt\n",
            "Resolving raw.githubusercontent.com (raw.githubusercontent.com)... 185.199.108.133, 185.199.109.133, 185.199.110.133, ...\n",
            "Connecting to raw.githubusercontent.com (raw.githubusercontent.com)|185.199.108.133|:443... connected.\n",
            "HTTP request sent, awaiting response... 200 OK\n",
            "Length: 228145 (223K) [text/plain]\n",
            "Saving to: ‘names.txt’\n",
            "\n",
            "\rnames.txt             0%[                    ]       0  --.-KB/s               \rnames.txt           100%[===================>] 222.80K  --.-KB/s    in 0.03s   \n",
            "\n",
            "2024-07-27 02:41:21 (6.23 MB/s) - ‘names.txt’ saved [228145/228145]\n",
            "\n"
          ]
        }
      ],
      "source": [
        "!wget https://raw.githubusercontent.com/karpathy/makemore/master/names.txt"
      ]
    },
    {
      "cell_type": "code",
      "source": [
        "words = open('names.txt', 'r').read().splitlines()"
      ],
      "metadata": {
        "id": "IsM9MRkeaA_f"
      },
      "execution_count": 2,
      "outputs": []
    },
    {
      "cell_type": "code",
      "source": [
        "words[:10]"
      ],
      "metadata": {
        "colab": {
          "base_uri": "https://localhost:8080/"
        },
        "id": "TB32cOctaJ8g",
        "outputId": "db990a0f-5b48-4610-d589-814dfb2d3be2"
      },
      "execution_count": 3,
      "outputs": [
        {
          "output_type": "execute_result",
          "data": {
            "text/plain": [
              "['emma',\n",
              " 'olivia',\n",
              " 'ava',\n",
              " 'isabella',\n",
              " 'sophia',\n",
              " 'charlotte',\n",
              " 'mia',\n",
              " 'amelia',\n",
              " 'harper',\n",
              " 'evelyn']"
            ]
          },
          "metadata": {},
          "execution_count": 3
        }
      ]
    },
    {
      "cell_type": "code",
      "source": [
        "len(words)"
      ],
      "metadata": {
        "colab": {
          "base_uri": "https://localhost:8080/"
        },
        "id": "SXd9IyjMaK7I",
        "outputId": "93a96969-f570-482f-944e-b10690738b92"
      },
      "execution_count": 4,
      "outputs": [
        {
          "output_type": "execute_result",
          "data": {
            "text/plain": [
              "32033"
            ]
          },
          "metadata": {},
          "execution_count": 4
        }
      ]
    },
    {
      "cell_type": "markdown",
      "source": [
        "# Bigram Language Model"
      ],
      "metadata": {
        "id": "lD4Ug001ajPu"
      }
    },
    {
      "cell_type": "code",
      "source": [
        "b = {}\n",
        "\n",
        "for w in words:\n",
        "  chs = ['<S>'] + list(w) + ['<E>']\n",
        "  for ch1, ch2 in zip(chs, chs[1:]):\n",
        "    bigram = (ch1, ch2)\n",
        "    b[bigram] = b.get(bigram, 0) + 1"
      ],
      "metadata": {
        "id": "tRp3VqOFaQN3"
      },
      "execution_count": 5,
      "outputs": []
    },
    {
      "cell_type": "code",
      "source": [
        "sorted(b.items(), key = lambda kv: -kv[1])"
      ],
      "metadata": {
        "colab": {
          "base_uri": "https://localhost:8080/"
        },
        "id": "axP8VNJNb2CL",
        "outputId": "a57a433c-e267-4b54-bac5-57214c6b3244"
      },
      "execution_count": 6,
      "outputs": [
        {
          "output_type": "execute_result",
          "data": {
            "text/plain": [
              "[(('n', '<E>'), 6763),\n",
              " (('a', '<E>'), 6640),\n",
              " (('a', 'n'), 5438),\n",
              " (('<S>', 'a'), 4410),\n",
              " (('e', '<E>'), 3983),\n",
              " (('a', 'r'), 3264),\n",
              " (('e', 'l'), 3248),\n",
              " (('r', 'i'), 3033),\n",
              " (('n', 'a'), 2977),\n",
              " (('<S>', 'k'), 2963),\n",
              " (('l', 'e'), 2921),\n",
              " (('e', 'n'), 2675),\n",
              " (('l', 'a'), 2623),\n",
              " (('m', 'a'), 2590),\n",
              " (('<S>', 'm'), 2538),\n",
              " (('a', 'l'), 2528),\n",
              " (('i', '<E>'), 2489),\n",
              " (('l', 'i'), 2480),\n",
              " (('i', 'a'), 2445),\n",
              " (('<S>', 'j'), 2422),\n",
              " (('o', 'n'), 2411),\n",
              " (('h', '<E>'), 2409),\n",
              " (('r', 'a'), 2356),\n",
              " (('a', 'h'), 2332),\n",
              " (('h', 'a'), 2244),\n",
              " (('y', 'a'), 2143),\n",
              " (('i', 'n'), 2126),\n",
              " (('<S>', 's'), 2055),\n",
              " (('a', 'y'), 2050),\n",
              " (('y', '<E>'), 2007),\n",
              " (('e', 'r'), 1958),\n",
              " (('n', 'n'), 1906),\n",
              " (('y', 'n'), 1826),\n",
              " (('k', 'a'), 1731),\n",
              " (('n', 'i'), 1725),\n",
              " (('r', 'e'), 1697),\n",
              " (('<S>', 'd'), 1690),\n",
              " (('i', 'e'), 1653),\n",
              " (('a', 'i'), 1650),\n",
              " (('<S>', 'r'), 1639),\n",
              " (('a', 'm'), 1634),\n",
              " (('l', 'y'), 1588),\n",
              " (('<S>', 'l'), 1572),\n",
              " (('<S>', 'c'), 1542),\n",
              " (('<S>', 'e'), 1531),\n",
              " (('j', 'a'), 1473),\n",
              " (('r', '<E>'), 1377),\n",
              " (('n', 'e'), 1359),\n",
              " (('l', 'l'), 1345),\n",
              " (('i', 'l'), 1345),\n",
              " (('i', 's'), 1316),\n",
              " (('l', '<E>'), 1314),\n",
              " (('<S>', 't'), 1308),\n",
              " (('<S>', 'b'), 1306),\n",
              " (('d', 'a'), 1303),\n",
              " (('s', 'h'), 1285),\n",
              " (('d', 'e'), 1283),\n",
              " (('e', 'e'), 1271),\n",
              " (('m', 'i'), 1256),\n",
              " (('s', 'a'), 1201),\n",
              " (('s', '<E>'), 1169),\n",
              " (('<S>', 'n'), 1146),\n",
              " (('a', 's'), 1118),\n",
              " (('y', 'l'), 1104),\n",
              " (('e', 'y'), 1070),\n",
              " (('o', 'r'), 1059),\n",
              " (('a', 'd'), 1042),\n",
              " (('t', 'a'), 1027),\n",
              " (('<S>', 'z'), 929),\n",
              " (('v', 'i'), 911),\n",
              " (('k', 'e'), 895),\n",
              " (('s', 'e'), 884),\n",
              " (('<S>', 'h'), 874),\n",
              " (('r', 'o'), 869),\n",
              " (('e', 's'), 861),\n",
              " (('z', 'a'), 860),\n",
              " (('o', '<E>'), 855),\n",
              " (('i', 'r'), 849),\n",
              " (('b', 'r'), 842),\n",
              " (('a', 'v'), 834),\n",
              " (('m', 'e'), 818),\n",
              " (('e', 'i'), 818),\n",
              " (('c', 'a'), 815),\n",
              " (('i', 'y'), 779),\n",
              " (('r', 'y'), 773),\n",
              " (('e', 'm'), 769),\n",
              " (('s', 't'), 765),\n",
              " (('h', 'i'), 729),\n",
              " (('t', 'e'), 716),\n",
              " (('n', 'd'), 704),\n",
              " (('l', 'o'), 692),\n",
              " (('a', 'e'), 692),\n",
              " (('a', 't'), 687),\n",
              " (('s', 'i'), 684),\n",
              " (('e', 'a'), 679),\n",
              " (('d', 'i'), 674),\n",
              " (('h', 'e'), 674),\n",
              " (('<S>', 'g'), 669),\n",
              " (('t', 'o'), 667),\n",
              " (('c', 'h'), 664),\n",
              " (('b', 'e'), 655),\n",
              " (('t', 'h'), 647),\n",
              " (('v', 'a'), 642),\n",
              " (('o', 'l'), 619),\n",
              " (('<S>', 'i'), 591),\n",
              " (('i', 'o'), 588),\n",
              " (('e', 't'), 580),\n",
              " (('v', 'e'), 568),\n",
              " (('a', 'k'), 568),\n",
              " (('a', 'a'), 556),\n",
              " (('c', 'e'), 551),\n",
              " (('a', 'b'), 541),\n",
              " (('i', 't'), 541),\n",
              " (('<S>', 'y'), 535),\n",
              " (('t', 'i'), 532),\n",
              " (('s', 'o'), 531),\n",
              " (('m', '<E>'), 516),\n",
              " (('d', '<E>'), 516),\n",
              " (('<S>', 'p'), 515),\n",
              " (('i', 'c'), 509),\n",
              " (('k', 'i'), 509),\n",
              " (('o', 's'), 504),\n",
              " (('n', 'o'), 496),\n",
              " (('t', '<E>'), 483),\n",
              " (('j', 'o'), 479),\n",
              " (('u', 's'), 474),\n",
              " (('a', 'c'), 470),\n",
              " (('n', 'y'), 465),\n",
              " (('e', 'v'), 463),\n",
              " (('s', 's'), 461),\n",
              " (('m', 'o'), 452),\n",
              " (('i', 'k'), 445),\n",
              " (('n', 't'), 443),\n",
              " (('i', 'd'), 440),\n",
              " (('j', 'e'), 440),\n",
              " (('a', 'z'), 435),\n",
              " (('i', 'g'), 428),\n",
              " (('i', 'm'), 427),\n",
              " (('r', 'r'), 425),\n",
              " (('d', 'r'), 424),\n",
              " (('<S>', 'f'), 417),\n",
              " (('u', 'r'), 414),\n",
              " (('r', 'l'), 413),\n",
              " (('y', 's'), 401),\n",
              " (('<S>', 'o'), 394),\n",
              " (('e', 'd'), 384),\n",
              " (('a', 'u'), 381),\n",
              " (('c', 'o'), 380),\n",
              " (('k', 'y'), 379),\n",
              " (('d', 'o'), 378),\n",
              " (('<S>', 'v'), 376),\n",
              " (('t', 't'), 374),\n",
              " (('z', 'e'), 373),\n",
              " (('z', 'i'), 364),\n",
              " (('k', '<E>'), 363),\n",
              " (('g', 'h'), 360),\n",
              " (('t', 'r'), 352),\n",
              " (('k', 'o'), 344),\n",
              " (('t', 'y'), 341),\n",
              " (('g', 'e'), 334),\n",
              " (('g', 'a'), 330),\n",
              " (('l', 'u'), 324),\n",
              " (('b', 'a'), 321),\n",
              " (('d', 'y'), 317),\n",
              " (('c', 'k'), 316),\n",
              " (('<S>', 'w'), 307),\n",
              " (('k', 'h'), 307),\n",
              " (('u', 'l'), 301),\n",
              " (('y', 'e'), 301),\n",
              " (('y', 'r'), 291),\n",
              " (('m', 'y'), 287),\n",
              " (('h', 'o'), 287),\n",
              " (('w', 'a'), 280),\n",
              " (('s', 'l'), 279),\n",
              " (('n', 's'), 278),\n",
              " (('i', 'z'), 277),\n",
              " (('u', 'n'), 275),\n",
              " (('o', 'u'), 275),\n",
              " (('n', 'g'), 273),\n",
              " (('y', 'd'), 272),\n",
              " (('c', 'i'), 271),\n",
              " (('y', 'o'), 271),\n",
              " (('i', 'v'), 269),\n",
              " (('e', 'o'), 269),\n",
              " (('o', 'm'), 261),\n",
              " (('r', 'u'), 252),\n",
              " (('f', 'a'), 242),\n",
              " (('b', 'i'), 217),\n",
              " (('s', 'y'), 215),\n",
              " (('n', 'c'), 213),\n",
              " (('h', 'y'), 213),\n",
              " (('p', 'a'), 209),\n",
              " (('r', 't'), 208),\n",
              " (('q', 'u'), 206),\n",
              " (('p', 'h'), 204),\n",
              " (('h', 'r'), 204),\n",
              " (('j', 'u'), 202),\n",
              " (('g', 'r'), 201),\n",
              " (('p', 'e'), 197),\n",
              " (('n', 'l'), 195),\n",
              " (('y', 'i'), 192),\n",
              " (('g', 'i'), 190),\n",
              " (('o', 'd'), 190),\n",
              " (('r', 's'), 190),\n",
              " (('r', 'd'), 187),\n",
              " (('h', 'l'), 185),\n",
              " (('s', 'u'), 185),\n",
              " (('a', 'x'), 182),\n",
              " (('e', 'z'), 181),\n",
              " (('e', 'k'), 178),\n",
              " (('o', 'v'), 176),\n",
              " (('a', 'j'), 175),\n",
              " (('o', 'h'), 171),\n",
              " (('u', 'e'), 169),\n",
              " (('m', 'm'), 168),\n",
              " (('a', 'g'), 168),\n",
              " (('h', 'u'), 166),\n",
              " (('x', '<E>'), 164),\n",
              " (('u', 'a'), 163),\n",
              " (('r', 'm'), 162),\n",
              " (('a', 'w'), 161),\n",
              " (('f', 'i'), 160),\n",
              " (('z', '<E>'), 160),\n",
              " (('u', '<E>'), 155),\n",
              " (('u', 'm'), 154),\n",
              " (('e', 'c'), 153),\n",
              " (('v', 'o'), 153),\n",
              " (('e', 'h'), 152),\n",
              " (('p', 'r'), 151),\n",
              " (('d', 'd'), 149),\n",
              " (('o', 'a'), 149),\n",
              " (('w', 'e'), 149),\n",
              " (('w', 'i'), 148),\n",
              " (('y', 'm'), 148),\n",
              " (('z', 'y'), 147),\n",
              " (('n', 'z'), 145),\n",
              " (('y', 'u'), 141),\n",
              " (('r', 'n'), 140),\n",
              " (('o', 'b'), 140),\n",
              " (('k', 'l'), 139),\n",
              " (('m', 'u'), 139),\n",
              " (('l', 'd'), 138),\n",
              " (('h', 'n'), 138),\n",
              " (('u', 'd'), 136),\n",
              " (('<S>', 'x'), 134),\n",
              " (('t', 'l'), 134),\n",
              " (('a', 'f'), 134),\n",
              " (('o', 'e'), 132),\n",
              " (('e', 'x'), 132),\n",
              " (('e', 'g'), 125),\n",
              " (('f', 'e'), 123),\n",
              " (('z', 'l'), 123),\n",
              " (('u', 'i'), 121),\n",
              " (('v', 'y'), 121),\n",
              " (('e', 'b'), 121),\n",
              " (('r', 'h'), 121),\n",
              " (('j', 'i'), 119),\n",
              " (('o', 't'), 118),\n",
              " (('d', 'h'), 118),\n",
              " (('h', 'm'), 117),\n",
              " (('c', 'l'), 116),\n",
              " (('o', 'o'), 115),\n",
              " (('y', 'c'), 115),\n",
              " (('o', 'w'), 114),\n",
              " (('o', 'c'), 114),\n",
              " (('f', 'r'), 114),\n",
              " (('b', '<E>'), 114),\n",
              " (('m', 'b'), 112),\n",
              " (('z', 'o'), 110),\n",
              " (('i', 'b'), 110),\n",
              " (('i', 'u'), 109),\n",
              " (('k', 'r'), 109),\n",
              " (('g', '<E>'), 108),\n",
              " (('y', 'v'), 106),\n",
              " (('t', 'z'), 105),\n",
              " (('b', 'o'), 105),\n",
              " (('c', 'y'), 104),\n",
              " (('y', 't'), 104),\n",
              " (('u', 'b'), 103),\n",
              " (('u', 'c'), 103),\n",
              " (('x', 'a'), 103),\n",
              " (('b', 'l'), 103),\n",
              " (('o', 'y'), 103),\n",
              " (('x', 'i'), 102),\n",
              " (('i', 'f'), 101),\n",
              " (('r', 'c'), 99),\n",
              " (('c', '<E>'), 97),\n",
              " (('m', 'r'), 97),\n",
              " (('n', 'u'), 96),\n",
              " (('o', 'p'), 95),\n",
              " (('i', 'h'), 95),\n",
              " (('k', 's'), 95),\n",
              " (('l', 's'), 94),\n",
              " (('u', 'k'), 93),\n",
              " (('<S>', 'q'), 92),\n",
              " (('d', 'u'), 92),\n",
              " (('s', 'm'), 90),\n",
              " (('r', 'k'), 90),\n",
              " (('i', 'x'), 89),\n",
              " (('v', '<E>'), 88),\n",
              " (('y', 'k'), 86),\n",
              " (('u', 'w'), 86),\n",
              " (('g', 'u'), 85),\n",
              " (('b', 'y'), 83),\n",
              " (('e', 'p'), 83),\n",
              " (('g', 'o'), 83),\n",
              " (('s', 'k'), 82),\n",
              " (('u', 't'), 82),\n",
              " (('a', 'p'), 82),\n",
              " (('e', 'f'), 82),\n",
              " (('i', 'i'), 82),\n",
              " (('r', 'v'), 80),\n",
              " (('f', '<E>'), 80),\n",
              " (('t', 'u'), 78),\n",
              " (('y', 'z'), 78),\n",
              " (('<S>', 'u'), 78),\n",
              " (('l', 't'), 77),\n",
              " (('r', 'g'), 76),\n",
              " (('c', 'r'), 76),\n",
              " (('i', 'j'), 76),\n",
              " (('w', 'y'), 73),\n",
              " (('z', 'u'), 73),\n",
              " (('l', 'v'), 72),\n",
              " (('h', 't'), 71),\n",
              " (('j', '<E>'), 71),\n",
              " (('x', 't'), 70),\n",
              " (('o', 'i'), 69),\n",
              " (('e', 'u'), 69),\n",
              " (('o', 'k'), 68),\n",
              " (('b', 'd'), 65),\n",
              " (('a', 'o'), 63),\n",
              " (('p', 'i'), 61),\n",
              " (('s', 'c'), 60),\n",
              " (('d', 'l'), 60),\n",
              " (('l', 'm'), 60),\n",
              " (('a', 'q'), 60),\n",
              " (('f', 'o'), 60),\n",
              " (('p', 'o'), 59),\n",
              " (('n', 'k'), 58),\n",
              " (('w', 'n'), 58),\n",
              " (('u', 'h'), 58),\n",
              " (('e', 'j'), 55),\n",
              " (('n', 'v'), 55),\n",
              " (('s', 'r'), 55),\n",
              " (('o', 'z'), 54),\n",
              " (('i', 'p'), 53),\n",
              " (('l', 'b'), 52),\n",
              " (('i', 'q'), 52),\n",
              " (('w', '<E>'), 51),\n",
              " (('m', 'c'), 51),\n",
              " (('s', 'p'), 51),\n",
              " (('e', 'w'), 50),\n",
              " (('k', 'u'), 50),\n",
              " (('v', 'r'), 48),\n",
              " (('u', 'g'), 47),\n",
              " (('o', 'x'), 45),\n",
              " (('u', 'z'), 45),\n",
              " (('z', 'z'), 45),\n",
              " (('j', 'h'), 45),\n",
              " (('b', 'u'), 45),\n",
              " (('o', 'g'), 44),\n",
              " (('n', 'r'), 44),\n",
              " (('f', 'f'), 44),\n",
              " (('n', 'j'), 44),\n",
              " (('z', 'h'), 43),\n",
              " (('c', 'c'), 42),\n",
              " (('r', 'b'), 41),\n",
              " (('x', 'o'), 41),\n",
              " (('b', 'h'), 41),\n",
              " (('p', 'p'), 39),\n",
              " (('x', 'l'), 39),\n",
              " (('h', 'v'), 39),\n",
              " (('b', 'b'), 38),\n",
              " (('m', 'p'), 38),\n",
              " (('x', 'x'), 38),\n",
              " (('u', 'v'), 37),\n",
              " (('x', 'e'), 36),\n",
              " (('w', 'o'), 36),\n",
              " (('c', 't'), 35),\n",
              " (('z', 'm'), 35),\n",
              " (('t', 's'), 35),\n",
              " (('m', 's'), 35),\n",
              " (('c', 'u'), 35),\n",
              " (('o', 'f'), 34),\n",
              " (('u', 'x'), 34),\n",
              " (('k', 'w'), 34),\n",
              " (('p', '<E>'), 33),\n",
              " (('g', 'l'), 32),\n",
              " (('z', 'r'), 32),\n",
              " (('d', 'n'), 31),\n",
              " (('g', 't'), 31),\n",
              " (('g', 'y'), 31),\n",
              " (('h', 's'), 31),\n",
              " (('x', 's'), 31),\n",
              " (('g', 's'), 30),\n",
              " (('x', 'y'), 30),\n",
              " (('y', 'g'), 30),\n",
              " (('d', 'm'), 30),\n",
              " (('d', 's'), 29),\n",
              " (('h', 'k'), 29),\n",
              " (('y', 'x'), 28),\n",
              " (('q', '<E>'), 28),\n",
              " (('g', 'n'), 27),\n",
              " (('y', 'b'), 27),\n",
              " (('g', 'w'), 26),\n",
              " (('n', 'h'), 26),\n",
              " (('k', 'n'), 26),\n",
              " (('g', 'g'), 25),\n",
              " (('d', 'g'), 25),\n",
              " (('l', 'c'), 25),\n",
              " (('r', 'j'), 25),\n",
              " (('w', 'u'), 25),\n",
              " (('l', 'k'), 24),\n",
              " (('m', 'd'), 24),\n",
              " (('s', 'w'), 24),\n",
              " (('s', 'n'), 24),\n",
              " (('h', 'd'), 24),\n",
              " (('w', 'h'), 23),\n",
              " (('y', 'j'), 23),\n",
              " (('y', 'y'), 23),\n",
              " (('r', 'z'), 23),\n",
              " (('d', 'w'), 23),\n",
              " (('w', 'r'), 22),\n",
              " (('t', 'n'), 22),\n",
              " (('l', 'f'), 22),\n",
              " (('y', 'h'), 22),\n",
              " (('r', 'w'), 21),\n",
              " (('s', 'b'), 21),\n",
              " (('m', 'n'), 20),\n",
              " (('f', 'l'), 20),\n",
              " (('w', 's'), 20),\n",
              " (('k', 'k'), 20),\n",
              " (('h', 'z'), 20),\n",
              " (('g', 'd'), 19),\n",
              " (('l', 'h'), 19),\n",
              " (('n', 'm'), 19),\n",
              " (('x', 'z'), 19),\n",
              " (('u', 'f'), 19),\n",
              " (('f', 't'), 18),\n",
              " (('l', 'r'), 18),\n",
              " (('p', 't'), 17),\n",
              " (('t', 'c'), 17),\n",
              " (('k', 't'), 17),\n",
              " (('d', 'v'), 17),\n",
              " (('u', 'p'), 16),\n",
              " (('p', 'l'), 16),\n",
              " (('l', 'w'), 16),\n",
              " (('p', 's'), 16),\n",
              " (('o', 'j'), 16),\n",
              " (('r', 'q'), 16),\n",
              " (('y', 'p'), 15),\n",
              " (('l', 'p'), 15),\n",
              " (('t', 'v'), 15),\n",
              " (('r', 'p'), 14),\n",
              " (('l', 'n'), 14),\n",
              " (('e', 'q'), 14),\n",
              " (('f', 'y'), 14),\n",
              " (('s', 'v'), 14),\n",
              " (('u', 'j'), 14),\n",
              " (('v', 'l'), 14),\n",
              " (('q', 'a'), 13),\n",
              " (('u', 'y'), 13),\n",
              " (('q', 'i'), 13),\n",
              " (('w', 'l'), 13),\n",
              " (('p', 'y'), 12),\n",
              " (('y', 'f'), 12),\n",
              " (('c', 'q'), 11),\n",
              " (('j', 'r'), 11),\n",
              " (('n', 'w'), 11),\n",
              " (('n', 'f'), 11),\n",
              " (('t', 'w'), 11),\n",
              " (('m', 'z'), 11),\n",
              " (('u', 'o'), 10),\n",
              " (('f', 'u'), 10),\n",
              " (('l', 'z'), 10),\n",
              " (('h', 'w'), 10),\n",
              " (('u', 'q'), 10),\n",
              " (('j', 'y'), 10),\n",
              " (('s', 'z'), 10),\n",
              " (('s', 'd'), 9),\n",
              " (('j', 'l'), 9),\n",
              " (('d', 'j'), 9),\n",
              " (('k', 'm'), 9),\n",
              " (('r', 'f'), 9),\n",
              " (('h', 'j'), 9),\n",
              " (('v', 'n'), 8),\n",
              " (('n', 'b'), 8),\n",
              " (('i', 'w'), 8),\n",
              " (('h', 'b'), 8),\n",
              " (('b', 's'), 8),\n",
              " (('w', 't'), 8),\n",
              " (('w', 'd'), 8),\n",
              " (('v', 'v'), 7),\n",
              " (('v', 'u'), 7),\n",
              " (('j', 's'), 7),\n",
              " (('m', 'j'), 7),\n",
              " (('f', 's'), 6),\n",
              " (('l', 'g'), 6),\n",
              " (('l', 'j'), 6),\n",
              " (('j', 'w'), 6),\n",
              " (('n', 'x'), 6),\n",
              " (('y', 'q'), 6),\n",
              " (('w', 'k'), 6),\n",
              " (('g', 'm'), 6),\n",
              " (('x', 'u'), 5),\n",
              " (('m', 'h'), 5),\n",
              " (('m', 'l'), 5),\n",
              " (('j', 'm'), 5),\n",
              " (('c', 's'), 5),\n",
              " (('j', 'v'), 5),\n",
              " (('n', 'p'), 5),\n",
              " (('d', 'f'), 5),\n",
              " (('x', 'd'), 5),\n",
              " (('z', 'b'), 4),\n",
              " (('f', 'n'), 4),\n",
              " (('x', 'c'), 4),\n",
              " (('m', 't'), 4),\n",
              " (('t', 'm'), 4),\n",
              " (('z', 'n'), 4),\n",
              " (('z', 't'), 4),\n",
              " (('p', 'u'), 4),\n",
              " (('c', 'z'), 4),\n",
              " (('b', 'n'), 4),\n",
              " (('z', 's'), 4),\n",
              " (('f', 'w'), 4),\n",
              " (('d', 't'), 4),\n",
              " (('j', 'd'), 4),\n",
              " (('j', 'c'), 4),\n",
              " (('y', 'w'), 4),\n",
              " (('v', 'k'), 3),\n",
              " (('x', 'w'), 3),\n",
              " (('t', 'j'), 3),\n",
              " (('c', 'j'), 3),\n",
              " (('q', 'w'), 3),\n",
              " (('g', 'b'), 3),\n",
              " (('o', 'q'), 3),\n",
              " (('r', 'x'), 3),\n",
              " (('d', 'c'), 3),\n",
              " (('g', 'j'), 3),\n",
              " (('x', 'f'), 3),\n",
              " (('z', 'w'), 3),\n",
              " (('d', 'k'), 3),\n",
              " (('u', 'u'), 3),\n",
              " (('m', 'v'), 3),\n",
              " (('c', 'x'), 3),\n",
              " (('l', 'q'), 3),\n",
              " (('p', 'b'), 2),\n",
              " (('t', 'g'), 2),\n",
              " (('q', 's'), 2),\n",
              " (('t', 'x'), 2),\n",
              " (('f', 'k'), 2),\n",
              " (('b', 't'), 2),\n",
              " (('j', 'n'), 2),\n",
              " (('k', 'c'), 2),\n",
              " (('z', 'k'), 2),\n",
              " (('s', 'j'), 2),\n",
              " (('s', 'f'), 2),\n",
              " (('z', 'j'), 2),\n",
              " (('n', 'q'), 2),\n",
              " (('f', 'z'), 2),\n",
              " (('h', 'g'), 2),\n",
              " (('w', 'w'), 2),\n",
              " (('k', 'j'), 2),\n",
              " (('j', 'k'), 2),\n",
              " (('w', 'm'), 2),\n",
              " (('z', 'c'), 2),\n",
              " (('z', 'v'), 2),\n",
              " (('w', 'f'), 2),\n",
              " (('q', 'm'), 2),\n",
              " (('k', 'z'), 2),\n",
              " (('j', 'j'), 2),\n",
              " (('z', 'p'), 2),\n",
              " (('j', 't'), 2),\n",
              " (('k', 'b'), 2),\n",
              " (('m', 'w'), 2),\n",
              " (('h', 'f'), 2),\n",
              " (('c', 'g'), 2),\n",
              " (('t', 'f'), 2),\n",
              " (('h', 'c'), 2),\n",
              " (('q', 'o'), 2),\n",
              " (('k', 'd'), 2),\n",
              " (('k', 'v'), 2),\n",
              " (('s', 'g'), 2),\n",
              " (('z', 'd'), 2),\n",
              " (('q', 'r'), 1),\n",
              " (('d', 'z'), 1),\n",
              " (('p', 'j'), 1),\n",
              " (('q', 'l'), 1),\n",
              " (('p', 'f'), 1),\n",
              " (('q', 'e'), 1),\n",
              " (('b', 'c'), 1),\n",
              " (('c', 'd'), 1),\n",
              " (('m', 'f'), 1),\n",
              " (('p', 'n'), 1),\n",
              " (('w', 'b'), 1),\n",
              " (('p', 'c'), 1),\n",
              " (('h', 'p'), 1),\n",
              " (('f', 'h'), 1),\n",
              " (('b', 'j'), 1),\n",
              " (('f', 'g'), 1),\n",
              " (('z', 'g'), 1),\n",
              " (('c', 'p'), 1),\n",
              " (('p', 'k'), 1),\n",
              " (('p', 'm'), 1),\n",
              " (('x', 'n'), 1),\n",
              " (('s', 'q'), 1),\n",
              " (('k', 'f'), 1),\n",
              " (('m', 'k'), 1),\n",
              " (('x', 'h'), 1),\n",
              " (('g', 'f'), 1),\n",
              " (('v', 'b'), 1),\n",
              " (('j', 'p'), 1),\n",
              " (('g', 'z'), 1),\n",
              " (('v', 'd'), 1),\n",
              " (('d', 'b'), 1),\n",
              " (('v', 'h'), 1),\n",
              " (('h', 'h'), 1),\n",
              " (('g', 'v'), 1),\n",
              " (('d', 'q'), 1),\n",
              " (('x', 'b'), 1),\n",
              " (('w', 'z'), 1),\n",
              " (('h', 'q'), 1),\n",
              " (('j', 'b'), 1),\n",
              " (('x', 'm'), 1),\n",
              " (('w', 'g'), 1),\n",
              " (('t', 'b'), 1),\n",
              " (('z', 'x'), 1)]"
            ]
          },
          "metadata": {},
          "execution_count": 6
        }
      ]
    },
    {
      "cell_type": "code",
      "source": [
        "import torch"
      ],
      "metadata": {
        "id": "AwOMI0cvcID_"
      },
      "execution_count": 7,
      "outputs": []
    },
    {
      "cell_type": "code",
      "source": [
        "a = torch.zeros((3,5), dtype=torch.int32)\n",
        "a"
      ],
      "metadata": {
        "colab": {
          "base_uri": "https://localhost:8080/"
        },
        "id": "TLGPb34ncbwA",
        "outputId": "1b8193b7-b327-4ee7-952e-fbfd6f76ea60"
      },
      "execution_count": 8,
      "outputs": [
        {
          "output_type": "execute_result",
          "data": {
            "text/plain": [
              "tensor([[0, 0, 0, 0, 0],\n",
              "        [0, 0, 0, 0, 0],\n",
              "        [0, 0, 0, 0, 0]], dtype=torch.int32)"
            ]
          },
          "metadata": {},
          "execution_count": 8
        }
      ]
    },
    {
      "cell_type": "code",
      "source": [
        "a.dtype"
      ],
      "metadata": {
        "colab": {
          "base_uri": "https://localhost:8080/"
        },
        "id": "ECg8OBp9cgCd",
        "outputId": "042a5a7a-290b-4d08-ce4c-b859880decba"
      },
      "execution_count": 9,
      "outputs": [
        {
          "output_type": "execute_result",
          "data": {
            "text/plain": [
              "torch.int32"
            ]
          },
          "metadata": {},
          "execution_count": 9
        }
      ]
    },
    {
      "cell_type": "code",
      "source": [
        "a[1, 3] = 1\n",
        "a"
      ],
      "metadata": {
        "colab": {
          "base_uri": "https://localhost:8080/"
        },
        "id": "C-TaWmv0chvj",
        "outputId": "42deb41f-ac2d-4e3a-d367-e1fca8780d68"
      },
      "execution_count": 10,
      "outputs": [
        {
          "output_type": "execute_result",
          "data": {
            "text/plain": [
              "tensor([[0, 0, 0, 0, 0],\n",
              "        [0, 0, 0, 1, 0],\n",
              "        [0, 0, 0, 0, 0]], dtype=torch.int32)"
            ]
          },
          "metadata": {},
          "execution_count": 10
        }
      ]
    },
    {
      "cell_type": "code",
      "source": [
        "N = torch.zeros((27, 27), dtype=torch.int32)"
      ],
      "metadata": {
        "id": "hOusmLaMdE7D"
      },
      "execution_count": 11,
      "outputs": []
    },
    {
      "cell_type": "code",
      "source": [
        "chars = sorted(list(set(''.join(words))))\n",
        "stoi = {s:i+1 for i,s in enumerate(chars)}\n",
        "stoi['.'] = 0"
      ],
      "metadata": {
        "id": "rvDaMg2cdGj_"
      },
      "execution_count": 12,
      "outputs": []
    },
    {
      "cell_type": "code",
      "source": [
        "for w in words:\n",
        "  chs = ['.'] + list(w) + ['.']\n",
        "  for ch1, ch2 in zip(chs, chs[1:]):\n",
        "    ix1 = stoi[ch1]\n",
        "    ix2 = stoi[ch2]\n",
        "    N[ix1, ix2] += 1"
      ],
      "metadata": {
        "id": "D_jODHBLcueY"
      },
      "execution_count": 13,
      "outputs": []
    },
    {
      "cell_type": "code",
      "source": [
        "import matplotlib.pyplot as plt\n",
        "%matplotlib inline\n",
        "plt.imshow(N)"
      ],
      "metadata": {
        "colab": {
          "base_uri": "https://localhost:8080/",
          "height": 468
        },
        "id": "syAJLXf5dvYg",
        "outputId": "8e144477-3d01-49a5-ba56-0a5bf3721d89"
      },
      "execution_count": 14,
      "outputs": [
        {
          "output_type": "execute_result",
          "data": {
            "text/plain": [
              "<matplotlib.image.AxesImage at 0x7ddca450af80>"
            ]
          },
          "metadata": {},
          "execution_count": 14
        },
        {
          "output_type": "display_data",
          "data": {
            "text/plain": [
              "<Figure size 640x480 with 1 Axes>"
            ],
            "image/png": "[encoded data removed]"
          },
          "metadata": {}
        }
      ]
    },
    {
      "cell_type": "code",
      "source": [
        "N.shape"
      ],
      "metadata": {
        "colab": {
          "base_uri": "https://localhost:8080/"
        },
        "id": "k6d3V_3NWLhi",
        "outputId": "8c64b51f-1167-4657-b839-8b75b8c68a22"
      },
      "execution_count": 15,
      "outputs": [
        {
          "output_type": "execute_result",
          "data": {
            "text/plain": [
              "torch.Size([27, 27])"
            ]
          },
          "metadata": {},
          "execution_count": 15
        }
      ]
    },
    {
      "cell_type": "code",
      "source": [
        "N[0, :]"
      ],
      "metadata": {
        "colab": {
          "base_uri": "https://localhost:8080/"
        },
        "id": "c-QUKvTYdysk",
        "outputId": "071f319d-a002-4b88-e360-01c527d132ad"
      },
      "execution_count": 16,
      "outputs": [
        {
          "output_type": "execute_result",
          "data": {
            "text/plain": [
              "tensor([   0, 4410, 1306, 1542, 1690, 1531,  417,  669,  874,  591, 2422, 2963,\n",
              "        1572, 2538, 1146,  394,  515,   92, 1639, 2055, 1308,   78,  376,  307,\n",
              "         134,  535,  929], dtype=torch.int32)"
            ]
          },
          "metadata": {},
          "execution_count": 16
        }
      ]
    },
    {
      "cell_type": "code",
      "source": [
        "p = N[0].float()\n",
        "p"
      ],
      "metadata": {
        "colab": {
          "base_uri": "https://localhost:8080/"
        },
        "id": "vSt7GbcRfV0F",
        "outputId": "0aee6a8a-3e6c-490e-819f-fff138010761"
      },
      "execution_count": 17,
      "outputs": [
        {
          "output_type": "execute_result",
          "data": {
            "text/plain": [
              "tensor([   0., 4410., 1306., 1542., 1690., 1531.,  417.,  669.,  874.,  591.,\n",
              "        2422., 2963., 1572., 2538., 1146.,  394.,  515.,   92., 1639., 2055.,\n",
              "        1308.,   78.,  376.,  307.,  134.,  535.,  929.])"
            ]
          },
          "metadata": {},
          "execution_count": 17
        }
      ]
    },
    {
      "cell_type": "code",
      "source": [
        "# Normalize\n",
        "p = p / p.sum()\n",
        "p"
      ],
      "metadata": {
        "colab": {
          "base_uri": "https://localhost:8080/"
        },
        "id": "hkqkj0_9fj0U",
        "outputId": "723265b2-8f11-4a22-a8f6-f9556b83cbfd"
      },
      "execution_count": 18,
      "outputs": [
        {
          "output_type": "execute_result",
          "data": {
            "text/plain": [
              "tensor([0.0000, 0.1377, 0.0408, 0.0481, 0.0528, 0.0478, 0.0130, 0.0209, 0.0273,\n",
              "        0.0184, 0.0756, 0.0925, 0.0491, 0.0792, 0.0358, 0.0123, 0.0161, 0.0029,\n",
              "        0.0512, 0.0642, 0.0408, 0.0024, 0.0117, 0.0096, 0.0042, 0.0167, 0.0290])"
            ]
          },
          "metadata": {},
          "execution_count": 18
        }
      ]
    },
    {
      "cell_type": "code",
      "source": [
        "itos = {i:s for s,i in stoi.items()}"
      ],
      "metadata": {
        "id": "ZGYO9Lu5hE6Q"
      },
      "execution_count": 19,
      "outputs": []
    },
    {
      "cell_type": "code",
      "source": [
        "g = torch.Generator().manual_seed(2147483647)\n",
        "ix = torch.multinomial(p, num_samples=1, replacement=True, generator=g).item()\n",
        "itos[ix]"
      ],
      "metadata": {
        "colab": {
          "base_uri": "https://localhost:8080/",
          "height": 56
        },
        "id": "HP0bkHSugzEm",
        "outputId": "96fad4e5-fb65-4add-95f0-440d100bb804"
      },
      "execution_count": 20,
      "outputs": [
        {
          "output_type": "execute_result",
          "data": {
            "text/plain": [
              "'j'"
            ],
            "application/vnd.google.colaboratory.intrinsic+json": {
              "type": "string"
            }
          },
          "metadata": {},
          "execution_count": 20
        }
      ]
    },
    {
      "cell_type": "code",
      "source": [
        "g = torch.Generator().manual_seed(2147483647)\n",
        "p = torch.rand(3, generator=g)\n",
        "p = p / p.sum()\n",
        "p"
      ],
      "metadata": {
        "colab": {
          "base_uri": "https://localhost:8080/"
        },
        "id": "toCZnUE1fpON",
        "outputId": "f652ca56-8e4b-4358-a9b7-8de5fcfa6ace"
      },
      "execution_count": 21,
      "outputs": [
        {
          "output_type": "execute_result",
          "data": {
            "text/plain": [
              "tensor([0.6064, 0.3033, 0.0903])"
            ]
          },
          "metadata": {},
          "execution_count": 21
        }
      ]
    },
    {
      "cell_type": "code",
      "source": [
        "torch.multinomial(p, num_samples=20, replacement=True, generator=g)"
      ],
      "metadata": {
        "colab": {
          "base_uri": "https://localhost:8080/"
        },
        "id": "6u4l2vZugEU3",
        "outputId": "93015673-b507-409e-eca4-d414c26407bb"
      },
      "execution_count": 22,
      "outputs": [
        {
          "output_type": "execute_result",
          "data": {
            "text/plain": [
              "tensor([1, 1, 2, 0, 0, 2, 1, 1, 0, 0, 0, 1, 1, 0, 0, 1, 1, 0, 0, 1])"
            ]
          },
          "metadata": {},
          "execution_count": 22
        }
      ]
    },
    {
      "cell_type": "code",
      "source": [
        "P = N.float()\n",
        "P = P / P.sum(1, keepdim=True)"
      ],
      "metadata": {
        "id": "VpX4mKmbjLSK"
      },
      "execution_count": 23,
      "outputs": []
    },
    {
      "cell_type": "code",
      "source": [
        "P.shape"
      ],
      "metadata": {
        "colab": {
          "base_uri": "https://localhost:8080/"
        },
        "id": "gGSwrvvQUJwB",
        "outputId": "92be5baa-cbd8-4c76-9550-07a59f87e24d"
      },
      "execution_count": 24,
      "outputs": [
        {
          "output_type": "execute_result",
          "data": {
            "text/plain": [
              "torch.Size([27, 27])"
            ]
          },
          "metadata": {},
          "execution_count": 24
        }
      ]
    },
    {
      "cell_type": "code",
      "source": [
        "torch.multinomial(P[0], num_samples=1, replacement=True, generator=g).item()"
      ],
      "metadata": {
        "colab": {
          "base_uri": "https://localhost:8080/"
        },
        "id": "zig-csYgXsmB",
        "outputId": "fe111a2e-bb0e-4250-be9f-379911b1b2ad"
      },
      "execution_count": 25,
      "outputs": [
        {
          "output_type": "execute_result",
          "data": {
            "text/plain": [
              "26"
            ]
          },
          "metadata": {},
          "execution_count": 25
        }
      ]
    },
    {
      "cell_type": "code",
      "source": [
        "g = torch.Generator().manual_seed(2147483647)\n",
        "\n",
        "for i in range(5):\n",
        "  out = []\n",
        "  ix = 0\n",
        "  while True:\n",
        "\n",
        "    p = P[ix]\n",
        "    ix = torch.multinomial(p, num_samples=1, replacement=True, generator=g).item()\n",
        "    out.append(itos[ix])\n",
        "    if ix == 0:\n",
        "      break\n",
        "\n",
        "  print(''.join(out))"
      ],
      "metadata": {
        "colab": {
          "base_uri": "https://localhost:8080/"
        },
        "id": "CFjSTm3sgZ2S",
        "outputId": "bd5e61f6-0c1f-4e45-b7c9-a98a15f75ede"
      },
      "execution_count": 26,
      "outputs": [
        {
          "output_type": "stream",
          "name": "stdout",
          "text": [
            "junide.\n",
            "janasah.\n",
            "p.\n",
            "cony.\n",
            "a.\n"
          ]
        }
      ]
    },
    {
      "cell_type": "markdown",
      "source": [
        "# Gradient Based Learning"
      ],
      "metadata": {
        "id": "_0_nO18yrMBz"
      }
    },
    {
      "cell_type": "code",
      "source": [
        "import torch.nn.functional as F\n",
        "\n",
        "xs, ys = [], []\n",
        "\n",
        "for w in words:\n",
        "  chs = ['.'] + list(w) + ['.']\n",
        "  for ch1, ch2 in zip(chs, chs[1:]):\n",
        "    ix1 = stoi[ch1]\n",
        "    ix2 = stoi[ch2]\n",
        "\n",
        "    xs.append(ix1)\n",
        "    ys.append(ix2)\n",
        "\n",
        "# Input Dataset\n",
        "xs = torch.tensor(xs)\n",
        "ys = torch.tensor(ys)\n",
        "num = xs.nelement()\n",
        "print(f\"Number of examples {num}\")\n",
        "\n",
        "# Initialize the network\n",
        "g = torch.Generator().manual_seed(2147483647)\n",
        "W = torch.randn((27,27), generator=g, requires_grad=True)"
      ],
      "metadata": {
        "colab": {
          "base_uri": "https://localhost:8080/"
        },
        "id": "UfOAOvzlh_33",
        "outputId": "7e1d8f3f-d115-4ccd-f6da-0a16b8f673ab"
      },
      "execution_count": 27,
      "outputs": [
        {
          "output_type": "stream",
          "name": "stdout",
          "text": [
            "Number of examples 228146\n"
          ]
        }
      ]
    },
    {
      "cell_type": "code",
      "source": [
        "# Gradient Descent\n",
        "\n",
        "epochs = 100\n",
        "learning_rate = -50.0\n",
        "\n",
        "for i in range(epochs):\n",
        "  # Forward Pass\n",
        "  xenc = F.one_hot(xs, num_classes=27).float()\n",
        "  logits = (xenc @ W)\n",
        "  counts = logits.exp()\n",
        "  probs = counts / counts.sum(1, keepdims=True)\n",
        "  loss = -probs[torch.arange(num), ys].log().mean() + 0.01 *(W**2).mean()\n",
        "\n",
        "  # Backward pass\n",
        "  W.grad = None # Set gradient to 0\n",
        "  loss.backward()\n",
        "\n",
        "  # Update the weights\n",
        "  W.data += learning_rate * W.grad\n",
        "  print(f\"Epoch: {i}, loss: {loss}\")\n"
      ],
      "metadata": {
        "id": "mABoSDmzuUKI",
        "colab": {
          "base_uri": "https://localhost:8080/"
        },
        "outputId": "bdd17bf0-a500-41c9-cc2d-f20277869437"
      },
      "execution_count": 28,
      "outputs": [
        {
          "output_type": "stream",
          "name": "stdout",
          "text": [
            "Epoch: 0, loss: 3.7686190605163574\n",
            "Epoch: 1, loss: 3.3788065910339355\n",
            "Epoch: 2, loss: 3.16109037399292\n",
            "Epoch: 3, loss: 3.0271859169006348\n",
            "Epoch: 4, loss: 2.9344842433929443\n",
            "Epoch: 5, loss: 2.867231607437134\n",
            "Epoch: 6, loss: 2.8166542053222656\n",
            "Epoch: 7, loss: 2.777146339416504\n",
            "Epoch: 8, loss: 2.7452542781829834\n",
            "Epoch: 9, loss: 2.7188303470611572\n",
            "Epoch: 10, loss: 2.696505546569824\n",
            "Epoch: 11, loss: 2.6773719787597656\n",
            "Epoch: 12, loss: 2.6608052253723145\n",
            "Epoch: 13, loss: 2.6463515758514404\n",
            "Epoch: 14, loss: 2.633664846420288\n",
            "Epoch: 15, loss: 2.622471570968628\n",
            "Epoch: 16, loss: 2.6125476360321045\n",
            "Epoch: 17, loss: 2.6037068367004395\n",
            "Epoch: 18, loss: 2.595794916152954\n",
            "Epoch: 19, loss: 2.5886809825897217\n",
            "Epoch: 20, loss: 2.5822560787200928\n",
            "Epoch: 21, loss: 2.5764293670654297\n",
            "Epoch: 22, loss: 2.5711236000061035\n",
            "Epoch: 23, loss: 2.5662729740142822\n",
            "Epoch: 24, loss: 2.5618228912353516\n",
            "Epoch: 25, loss: 2.5577263832092285\n",
            "Epoch: 26, loss: 2.5539441108703613\n",
            "Epoch: 27, loss: 2.550442695617676\n",
            "Epoch: 28, loss: 2.5471925735473633\n",
            "Epoch: 29, loss: 2.5441696643829346\n",
            "Epoch: 30, loss: 2.5413522720336914\n",
            "Epoch: 31, loss: 2.538722038269043\n",
            "Epoch: 32, loss: 2.536262035369873\n",
            "Epoch: 33, loss: 2.5339581966400146\n",
            "Epoch: 34, loss: 2.531797409057617\n",
            "Epoch: 35, loss: 2.529768228530884\n",
            "Epoch: 36, loss: 2.527859926223755\n",
            "Epoch: 37, loss: 2.5260636806488037\n",
            "Epoch: 38, loss: 2.5243701934814453\n",
            "Epoch: 39, loss: 2.522773265838623\n",
            "Epoch: 40, loss: 2.52126407623291\n",
            "Epoch: 41, loss: 2.519836902618408\n",
            "Epoch: 42, loss: 2.5184857845306396\n",
            "Epoch: 43, loss: 2.5172054767608643\n",
            "Epoch: 44, loss: 2.515990734100342\n",
            "Epoch: 45, loss: 2.5148372650146484\n",
            "Epoch: 46, loss: 2.5137407779693604\n",
            "Epoch: 47, loss: 2.512697696685791\n",
            "Epoch: 48, loss: 2.511704921722412\n",
            "Epoch: 49, loss: 2.5107581615448\n",
            "Epoch: 50, loss: 2.509854555130005\n",
            "Epoch: 51, loss: 2.5089924335479736\n",
            "Epoch: 52, loss: 2.5081682205200195\n",
            "Epoch: 53, loss: 2.507380485534668\n",
            "Epoch: 54, loss: 2.5066261291503906\n",
            "Epoch: 55, loss: 2.5059032440185547\n",
            "Epoch: 56, loss: 2.5052106380462646\n",
            "Epoch: 57, loss: 2.5045459270477295\n",
            "Epoch: 58, loss: 2.5039076805114746\n",
            "Epoch: 59, loss: 2.503295421600342\n",
            "Epoch: 60, loss: 2.5027060508728027\n",
            "Epoch: 61, loss: 2.5021393299102783\n",
            "Epoch: 62, loss: 2.5015945434570312\n",
            "Epoch: 63, loss: 2.5010693073272705\n",
            "Epoch: 64, loss: 2.500562906265259\n",
            "Epoch: 65, loss: 2.500075578689575\n",
            "Epoch: 66, loss: 2.4996044635772705\n",
            "Epoch: 67, loss: 2.499150514602661\n",
            "Epoch: 68, loss: 2.4987120628356934\n",
            "Epoch: 69, loss: 2.498288154602051\n",
            "Epoch: 70, loss: 2.4978790283203125\n",
            "Epoch: 71, loss: 2.4974827766418457\n",
            "Epoch: 72, loss: 2.4970996379852295\n",
            "Epoch: 73, loss: 2.4967293739318848\n",
            "Epoch: 74, loss: 2.496370315551758\n",
            "Epoch: 75, loss: 2.4960227012634277\n",
            "Epoch: 76, loss: 2.4956858158111572\n",
            "Epoch: 77, loss: 2.4953596591949463\n",
            "Epoch: 78, loss: 2.4950435161590576\n",
            "Epoch: 79, loss: 2.494736433029175\n",
            "Epoch: 80, loss: 2.4944381713867188\n",
            "Epoch: 81, loss: 2.494149684906006\n",
            "Epoch: 82, loss: 2.4938690662384033\n",
            "Epoch: 83, loss: 2.4935967922210693\n",
            "Epoch: 84, loss: 2.4933323860168457\n",
            "Epoch: 85, loss: 2.493075132369995\n",
            "Epoch: 86, loss: 2.4928252696990967\n",
            "Epoch: 87, loss: 2.492582321166992\n",
            "Epoch: 88, loss: 2.49234676361084\n",
            "Epoch: 89, loss: 2.492116689682007\n",
            "Epoch: 90, loss: 2.4918932914733887\n",
            "Epoch: 91, loss: 2.491676092147827\n",
            "Epoch: 92, loss: 2.491464376449585\n",
            "Epoch: 93, loss: 2.491258382797241\n",
            "Epoch: 94, loss: 2.491058111190796\n",
            "Epoch: 95, loss: 2.4908623695373535\n",
            "Epoch: 96, loss: 2.4906723499298096\n",
            "Epoch: 97, loss: 2.4904870986938477\n",
            "Epoch: 98, loss: 2.4903063774108887\n",
            "Epoch: 99, loss: 2.4901304244995117\n"
          ]
        }
      ]
    },
    {
      "cell_type": "code",
      "source": [
        "# Sample from NN model\n",
        "g = torch.Generator().manual_seed(2147483647)\n",
        "\n",
        "for i in range(5):\n",
        "  out = []\n",
        "  ix = 0\n",
        "\n",
        "  while True:\n",
        "\n",
        "    # Before\n",
        "    # p = P[ix]\n",
        "\n",
        "    # Now\n",
        "    xenc = F.one_hot(torch.tensor([ix]), num_classes=27).float()\n",
        "    logits = (xenc @ W)\n",
        "    counts = logits.exp()\n",
        "    p = counts / counts.sum(1, keepdims=True)\n",
        "\n",
        "    ix = torch.multinomial(p, num_samples=1, replacement=True, generator=g).item()\n",
        "    out.append(itos[ix])\n",
        "    if ix == 0:\n",
        "      break\n",
        "  print(''.join(out))"
      ],
      "metadata": {
        "colab": {
          "base_uri": "https://localhost:8080/"
        },
        "id": "i8XHMUy84dhb",
        "outputId": "d9b8625c-4207-4417-b8a8-095553ae082a"
      },
      "execution_count": 31,
      "outputs": [
        {
          "output_type": "stream",
          "name": "stdout",
          "text": [
            "junide.\n",
            "janasah.\n",
            "p.\n",
            "cfay.\n",
            "a.\n"
          ]
        }
      ]
    },
    {
      "cell_type": "markdown",
      "source": [
        "# MultiLayer Perceptron"
      ],
      "metadata": {
        "id": "J1MecvWZSmzC"
      }
    },
    {
      "cell_type": "code",
      "source": [
        "stoi"
      ],
      "metadata": {
        "colab": {
          "base_uri": "https://localhost:8080/"
        },
        "id": "REkizGn7Xvi3",
        "outputId": "8b8d92c0-c838-4f1f-94a2-767500106ac3"
      },
      "execution_count": 42,
      "outputs": [
        {
          "output_type": "execute_result",
          "data": {
            "text/plain": [
              "{'a': 1,\n",
              " 'b': 2,\n",
              " 'c': 3,\n",
              " 'd': 4,\n",
              " 'e': 5,\n",
              " 'f': 6,\n",
              " 'g': 7,\n",
              " 'h': 8,\n",
              " 'i': 9,\n",
              " 'j': 10,\n",
              " 'k': 11,\n",
              " 'l': 12,\n",
              " 'm': 13,\n",
              " 'n': 14,\n",
              " 'o': 15,\n",
              " 'p': 16,\n",
              " 'q': 17,\n",
              " 'r': 18,\n",
              " 's': 19,\n",
              " 't': 20,\n",
              " 'u': 21,\n",
              " 'v': 22,\n",
              " 'w': 23,\n",
              " 'x': 24,\n",
              " 'y': 25,\n",
              " 'z': 26,\n",
              " '.': 0}"
            ]
          },
          "metadata": {},
          "execution_count": 42
        }
      ]
    },
    {
      "cell_type": "code",
      "source": [
        "# Build Dataset\n",
        "block_size = 3\n",
        "X, Y = [], []\n",
        "\n",
        "for w in words[:5]:\n",
        "  print(w)\n",
        "  context = [0] * block_size\n",
        "  for ch in w + '.':\n",
        "    ix = stoi[ch]\n",
        "    X.append(context)\n",
        "    Y.append(ix)\n",
        "    print(''.join(itos[i] for i in context), '--->', itos[ix])\n",
        "    context = context[1:] + [ix]\n",
        "\n",
        "X = torch.tensor(X)\n",
        "Y = torch.tensor(Y)"
      ],
      "metadata": {
        "colab": {
          "base_uri": "https://localhost:8080/"
        },
        "id": "P8zMudRmVgZ-",
        "outputId": "6c29e9b2-ebad-4f58-993a-fed1ae0a44eb"
      },
      "execution_count": 92,
      "outputs": [
        {
          "output_type": "stream",
          "name": "stdout",
          "text": [
            "emma\n",
            "... ---> e\n",
            "..e ---> m\n",
            ".em ---> m\n",
            "emm ---> a\n",
            "mma ---> .\n",
            "olivia\n",
            "... ---> o\n",
            "..o ---> l\n",
            ".ol ---> i\n",
            "oli ---> v\n",
            "liv ---> i\n",
            "ivi ---> a\n",
            "via ---> .\n",
            "ava\n",
            "... ---> a\n",
            "..a ---> v\n",
            ".av ---> a\n",
            "ava ---> .\n",
            "isabella\n",
            "... ---> i\n",
            "..i ---> s\n",
            ".is ---> a\n",
            "isa ---> b\n",
            "sab ---> e\n",
            "abe ---> l\n",
            "bel ---> l\n",
            "ell ---> a\n",
            "lla ---> .\n",
            "sophia\n",
            "... ---> s\n",
            "..s ---> o\n",
            ".so ---> p\n",
            "sop ---> h\n",
            "oph ---> i\n",
            "phi ---> a\n",
            "hia ---> .\n"
          ]
        }
      ]
    },
    {
      "cell_type": "code",
      "source": [
        "# Inputs, Labels\n",
        "X.shape, Y.shape"
      ],
      "metadata": {
        "colab": {
          "base_uri": "https://localhost:8080/"
        },
        "id": "ps1puyG_Yr_5",
        "outputId": "25748f19-e410-4a17-cf60-8c45ecb809a6"
      },
      "execution_count": 49,
      "outputs": [
        {
          "output_type": "execute_result",
          "data": {
            "text/plain": [
              "(torch.Size([32, 3]), torch.Size([32]))"
            ]
          },
          "metadata": {},
          "execution_count": 49
        }
      ]
    },
    {
      "cell_type": "code",
      "source": [
        "# embedding matrix for 27 examples\n",
        "C = torch.randn((27, 2))\n",
        "C"
      ],
      "metadata": {
        "colab": {
          "base_uri": "https://localhost:8080/"
        },
        "id": "_S4JjPdYY2j2",
        "outputId": "a521606c-c89c-4937-d4ef-9eab01b93f9a"
      },
      "execution_count": 50,
      "outputs": [
        {
          "output_type": "execute_result",
          "data": {
            "text/plain": [
              "tensor([[-1.9770, -1.2114],\n",
              "        [-0.2527, -1.6000],\n",
              "        [-0.8823, -0.3820],\n",
              "        [-0.6264, -0.5549],\n",
              "        [ 1.9110, -0.1245],\n",
              "        [-0.4520, -0.2053],\n",
              "        [-0.6497, -1.2969],\n",
              "        [-0.5585, -0.8838],\n",
              "        [-0.0335, -0.1576],\n",
              "        [-2.0687, -0.6541],\n",
              "        [ 1.9693,  1.6038],\n",
              "        [ 1.3450,  0.4984],\n",
              "        [-0.8564,  0.4079],\n",
              "        [ 1.7739,  0.9115],\n",
              "        [ 2.2901, -1.2010],\n",
              "        [-2.7432,  1.1449],\n",
              "        [ 0.4772, -0.5189],\n",
              "        [ 1.3965, -1.9389],\n",
              "        [-0.8429, -0.7955],\n",
              "        [ 1.2706, -1.3472],\n",
              "        [ 1.1564,  0.3377],\n",
              "        [-0.5448, -0.2032],\n",
              "        [-0.2441, -0.5619],\n",
              "        [-1.2524,  1.9449],\n",
              "        [ 0.5821,  0.4013],\n",
              "        [-0.2787,  0.2677],\n",
              "        [ 0.9445, -0.4787]])"
            ]
          },
          "metadata": {},
          "execution_count": 50
        }
      ]
    },
    {
      "cell_type": "code",
      "source": [
        "F.one_hot(torch.tensor(5), num_classes=27).float() @ C"
      ],
      "metadata": {
        "colab": {
          "base_uri": "https://localhost:8080/"
        },
        "id": "GqxB_1v8Z_wv",
        "outputId": "329e0e55-0476-44c7-aaa7-07dc96c86bf0"
      },
      "execution_count": 51,
      "outputs": [
        {
          "output_type": "execute_result",
          "data": {
            "text/plain": [
              "tensor([-0.4520, -0.2053])"
            ]
          },
          "metadata": {},
          "execution_count": 51
        }
      ]
    },
    {
      "cell_type": "code",
      "source": [
        "C[5]"
      ],
      "metadata": {
        "colab": {
          "base_uri": "https://localhost:8080/"
        },
        "id": "aOPK-L8aawsa",
        "outputId": "db48ce38-379f-40ce-ddd5-4c2906d50891"
      },
      "execution_count": 52,
      "outputs": [
        {
          "output_type": "execute_result",
          "data": {
            "text/plain": [
              "tensor([-0.4520, -0.2053])"
            ]
          },
          "metadata": {},
          "execution_count": 52
        }
      ]
    },
    {
      "cell_type": "code",
      "source": [
        "embeddings = C[X]"
      ],
      "metadata": {
        "id": "5txRwTFwayBB"
      },
      "execution_count": 55,
      "outputs": []
    },
    {
      "cell_type": "code",
      "source": [
        "embeddings @ W1 + b1"
      ],
      "metadata": {
        "colab": {
          "base_uri": "https://localhost:8080/",
          "height": 166
        },
        "id": "f43ar_yJbof0",
        "outputId": "f488849d-824f-4472-aea7-d1ac07471b9c"
      },
      "execution_count": 57,
      "outputs": [
        {
          "output_type": "error",
          "ename": "RuntimeError",
          "evalue": "mat1 and mat2 shapes cannot be multiplied (96x2 and 6x100)",
          "traceback": [
            "\u001b[0;31m---------------------------------------------------------------------------\u001b[0m",
            "\u001b[0;31mRuntimeError\u001b[0m                              Traceback (most recent call last)",
            "\u001b[0;32m<ipython-input-57-cf70b4041121>\u001b[0m in \u001b[0;36m<cell line: 1>\u001b[0;34m()\u001b[0m\n\u001b[0;32m----> 1\u001b[0;31m \u001b[0membeddings\u001b[0m \u001b[0;34m@\u001b[0m \u001b[0mW1\u001b[0m \u001b[0;34m+\u001b[0m \u001b[0mb1\u001b[0m\u001b[0;34m\u001b[0m\u001b[0;34m\u001b[0m\u001b[0m\n\u001b[0m",
            "\u001b[0;31mRuntimeError\u001b[0m: mat1 and mat2 shapes cannot be multiplied (96x2 and 6x100)"
          ]
        }
      ]
    },
    {
      "cell_type": "code",
      "source": [
        "# 32 examples with 6 inputs\n",
        "torch.cat([embeddings[:, 0, :], embeddings[:, 1, :], embeddings[:, 2, :]], 1)"
      ],
      "metadata": {
        "colab": {
          "base_uri": "https://localhost:8080/"
        },
        "id": "t2amgE8Fbxde",
        "outputId": "d950b1dc-acf6-4a67-a36d-a10c83d794fe"
      },
      "execution_count": 64,
      "outputs": [
        {
          "output_type": "execute_result",
          "data": {
            "text/plain": [
              "tensor([[-1.9770, -1.2114, -1.9770, -1.2114, -1.9770, -1.2114],\n",
              "        [-1.9770, -1.2114, -1.9770, -1.2114, -0.4520, -0.2053],\n",
              "        [-1.9770, -1.2114, -0.4520, -0.2053,  1.7739,  0.9115],\n",
              "        [-0.4520, -0.2053,  1.7739,  0.9115,  1.7739,  0.9115],\n",
              "        [ 1.7739,  0.9115,  1.7739,  0.9115, -0.2527, -1.6000],\n",
              "        [-1.9770, -1.2114, -1.9770, -1.2114, -1.9770, -1.2114],\n",
              "        [-1.9770, -1.2114, -1.9770, -1.2114, -2.7432,  1.1449],\n",
              "        [-1.9770, -1.2114, -2.7432,  1.1449, -0.8564,  0.4079],\n",
              "        [-2.7432,  1.1449, -0.8564,  0.4079, -2.0687, -0.6541],\n",
              "        [-0.8564,  0.4079, -2.0687, -0.6541, -0.2441, -0.5619],\n",
              "        [-2.0687, -0.6541, -0.2441, -0.5619, -2.0687, -0.6541],\n",
              "        [-0.2441, -0.5619, -2.0687, -0.6541, -0.2527, -1.6000],\n",
              "        [-1.9770, -1.2114, -1.9770, -1.2114, -1.9770, -1.2114],\n",
              "        [-1.9770, -1.2114, -1.9770, -1.2114, -0.2527, -1.6000],\n",
              "        [-1.9770, -1.2114, -0.2527, -1.6000, -0.2441, -0.5619],\n",
              "        [-0.2527, -1.6000, -0.2441, -0.5619, -0.2527, -1.6000],\n",
              "        [-1.9770, -1.2114, -1.9770, -1.2114, -1.9770, -1.2114],\n",
              "        [-1.9770, -1.2114, -1.9770, -1.2114, -2.0687, -0.6541],\n",
              "        [-1.9770, -1.2114, -2.0687, -0.6541,  1.2706, -1.3472],\n",
              "        [-2.0687, -0.6541,  1.2706, -1.3472, -0.2527, -1.6000],\n",
              "        [ 1.2706, -1.3472, -0.2527, -1.6000, -0.8823, -0.3820],\n",
              "        [-0.2527, -1.6000, -0.8823, -0.3820, -0.4520, -0.2053],\n",
              "        [-0.8823, -0.3820, -0.4520, -0.2053, -0.8564,  0.4079],\n",
              "        [-0.4520, -0.2053, -0.8564,  0.4079, -0.8564,  0.4079],\n",
              "        [-0.8564,  0.4079, -0.8564,  0.4079, -0.2527, -1.6000],\n",
              "        [-1.9770, -1.2114, -1.9770, -1.2114, -1.9770, -1.2114],\n",
              "        [-1.9770, -1.2114, -1.9770, -1.2114,  1.2706, -1.3472],\n",
              "        [-1.9770, -1.2114,  1.2706, -1.3472, -2.7432,  1.1449],\n",
              "        [ 1.2706, -1.3472, -2.7432,  1.1449,  0.4772, -0.5189],\n",
              "        [-2.7432,  1.1449,  0.4772, -0.5189, -0.0335, -0.1576],\n",
              "        [ 0.4772, -0.5189, -0.0335, -0.1576, -2.0687, -0.6541],\n",
              "        [-0.0335, -0.1576, -2.0687, -0.6541, -0.2527, -1.6000]])"
            ]
          },
          "metadata": {},
          "execution_count": 64
        }
      ]
    },
    {
      "cell_type": "code",
      "source": [
        "torch.cat(torch.unbind(embeddings, 1), 1)"
      ],
      "metadata": {
        "colab": {
          "base_uri": "https://localhost:8080/"
        },
        "id": "HW8Ud7IJcFeG",
        "outputId": "88f5113a-6011-4a68-c173-15e79ac3967c"
      },
      "execution_count": 66,
      "outputs": [
        {
          "output_type": "execute_result",
          "data": {
            "text/plain": [
              "tensor([[-1.9770, -1.2114, -1.9770, -1.2114, -1.9770, -1.2114],\n",
              "        [-1.9770, -1.2114, -1.9770, -1.2114, -0.4520, -0.2053],\n",
              "        [-1.9770, -1.2114, -0.4520, -0.2053,  1.7739,  0.9115],\n",
              "        [-0.4520, -0.2053,  1.7739,  0.9115,  1.7739,  0.9115],\n",
              "        [ 1.7739,  0.9115,  1.7739,  0.9115, -0.2527, -1.6000],\n",
              "        [-1.9770, -1.2114, -1.9770, -1.2114, -1.9770, -1.2114],\n",
              "        [-1.9770, -1.2114, -1.9770, -1.2114, -2.7432,  1.1449],\n",
              "        [-1.9770, -1.2114, -2.7432,  1.1449, -0.8564,  0.4079],\n",
              "        [-2.7432,  1.1449, -0.8564,  0.4079, -2.0687, -0.6541],\n",
              "        [-0.8564,  0.4079, -2.0687, -0.6541, -0.2441, -0.5619],\n",
              "        [-2.0687, -0.6541, -0.2441, -0.5619, -2.0687, -0.6541],\n",
              "        [-0.2441, -0.5619, -2.0687, -0.6541, -0.2527, -1.6000],\n",
              "        [-1.9770, -1.2114, -1.9770, -1.2114, -1.9770, -1.2114],\n",
              "        [-1.9770, -1.2114, -1.9770, -1.2114, -0.2527, -1.6000],\n",
              "        [-1.9770, -1.2114, -0.2527, -1.6000, -0.2441, -0.5619],\n",
              "        [-0.2527, -1.6000, -0.2441, -0.5619, -0.2527, -1.6000],\n",
              "        [-1.9770, -1.2114, -1.9770, -1.2114, -1.9770, -1.2114],\n",
              "        [-1.9770, -1.2114, -1.9770, -1.2114, -2.0687, -0.6541],\n",
              "        [-1.9770, -1.2114, -2.0687, -0.6541,  1.2706, -1.3472],\n",
              "        [-2.0687, -0.6541,  1.2706, -1.3472, -0.2527, -1.6000],\n",
              "        [ 1.2706, -1.3472, -0.2527, -1.6000, -0.8823, -0.3820],\n",
              "        [-0.2527, -1.6000, -0.8823, -0.3820, -0.4520, -0.2053],\n",
              "        [-0.8823, -0.3820, -0.4520, -0.2053, -0.8564,  0.4079],\n",
              "        [-0.4520, -0.2053, -0.8564,  0.4079, -0.8564,  0.4079],\n",
              "        [-0.8564,  0.4079, -0.8564,  0.4079, -0.2527, -1.6000],\n",
              "        [-1.9770, -1.2114, -1.9770, -1.2114, -1.9770, -1.2114],\n",
              "        [-1.9770, -1.2114, -1.9770, -1.2114,  1.2706, -1.3472],\n",
              "        [-1.9770, -1.2114,  1.2706, -1.3472, -2.7432,  1.1449],\n",
              "        [ 1.2706, -1.3472, -2.7432,  1.1449,  0.4772, -0.5189],\n",
              "        [-2.7432,  1.1449,  0.4772, -0.5189, -0.0335, -0.1576],\n",
              "        [ 0.4772, -0.5189, -0.0335, -0.1576, -2.0687, -0.6541],\n",
              "        [-0.0335, -0.1576, -2.0687, -0.6541, -0.2527, -1.6000]])"
            ]
          },
          "metadata": {},
          "execution_count": 66
        }
      ]
    },
    {
      "cell_type": "code",
      "source": [
        "embeddings.view(32, 6)"
      ],
      "metadata": {
        "colab": {
          "base_uri": "https://localhost:8080/"
        },
        "id": "5IkpzGmXcl-5",
        "outputId": "29a05926-80f3-430f-8fdd-22c32b2c9283"
      },
      "execution_count": 68,
      "outputs": [
        {
          "output_type": "execute_result",
          "data": {
            "text/plain": [
              "tensor([[-1.9770, -1.2114, -1.9770, -1.2114, -1.9770, -1.2114],\n",
              "        [-1.9770, -1.2114, -1.9770, -1.2114, -0.4520, -0.2053],\n",
              "        [-1.9770, -1.2114, -0.4520, -0.2053,  1.7739,  0.9115],\n",
              "        [-0.4520, -0.2053,  1.7739,  0.9115,  1.7739,  0.9115],\n",
              "        [ 1.7739,  0.9115,  1.7739,  0.9115, -0.2527, -1.6000],\n",
              "        [-1.9770, -1.2114, -1.9770, -1.2114, -1.9770, -1.2114],\n",
              "        [-1.9770, -1.2114, -1.9770, -1.2114, -2.7432,  1.1449],\n",
              "        [-1.9770, -1.2114, -2.7432,  1.1449, -0.8564,  0.4079],\n",
              "        [-2.7432,  1.1449, -0.8564,  0.4079, -2.0687, -0.6541],\n",
              "        [-0.8564,  0.4079, -2.0687, -0.6541, -0.2441, -0.5619],\n",
              "        [-2.0687, -0.6541, -0.2441, -0.5619, -2.0687, -0.6541],\n",
              "        [-0.2441, -0.5619, -2.0687, -0.6541, -0.2527, -1.6000],\n",
              "        [-1.9770, -1.2114, -1.9770, -1.2114, -1.9770, -1.2114],\n",
              "        [-1.9770, -1.2114, -1.9770, -1.2114, -0.2527, -1.6000],\n",
              "        [-1.9770, -1.2114, -0.2527, -1.6000, -0.2441, -0.5619],\n",
              "        [-0.2527, -1.6000, -0.2441, -0.5619, -0.2527, -1.6000],\n",
              "        [-1.9770, -1.2114, -1.9770, -1.2114, -1.9770, -1.2114],\n",
              "        [-1.9770, -1.2114, -1.9770, -1.2114, -2.0687, -0.6541],\n",
              "        [-1.9770, -1.2114, -2.0687, -0.6541,  1.2706, -1.3472],\n",
              "        [-2.0687, -0.6541,  1.2706, -1.3472, -0.2527, -1.6000],\n",
              "        [ 1.2706, -1.3472, -0.2527, -1.6000, -0.8823, -0.3820],\n",
              "        [-0.2527, -1.6000, -0.8823, -0.3820, -0.4520, -0.2053],\n",
              "        [-0.8823, -0.3820, -0.4520, -0.2053, -0.8564,  0.4079],\n",
              "        [-0.4520, -0.2053, -0.8564,  0.4079, -0.8564,  0.4079],\n",
              "        [-0.8564,  0.4079, -0.8564,  0.4079, -0.2527, -1.6000],\n",
              "        [-1.9770, -1.2114, -1.9770, -1.2114, -1.9770, -1.2114],\n",
              "        [-1.9770, -1.2114, -1.9770, -1.2114,  1.2706, -1.3472],\n",
              "        [-1.9770, -1.2114,  1.2706, -1.3472, -2.7432,  1.1449],\n",
              "        [ 1.2706, -1.3472, -2.7432,  1.1449,  0.4772, -0.5189],\n",
              "        [-2.7432,  1.1449,  0.4772, -0.5189, -0.0335, -0.1576],\n",
              "        [ 0.4772, -0.5189, -0.0335, -0.1576, -2.0687, -0.6541],\n",
              "        [-0.0335, -0.1576, -2.0687, -0.6541, -0.2527, -1.6000]])"
            ]
          },
          "metadata": {},
          "execution_count": 68
        }
      ]
    },
    {
      "cell_type": "code",
      "source": [
        "# Build Dataset\n",
        "def build_dataset(words):\n",
        "  block_size = 3\n",
        "  X, Y = [], []\n",
        "\n",
        "  for w in words:\n",
        "    context = [0] * block_size\n",
        "    for ch in w + '.':\n",
        "      ix = stoi[ch]\n",
        "      X.append(context)\n",
        "      Y.append(ix)\n",
        "      #print(''.join(itos[i] for i in context), '--->', itos[ix])\n",
        "      context = context[1:] + [ix]\n",
        "\n",
        "  X = torch.tensor(X)\n",
        "  Y = torch.tensor(Y)\n",
        "  print(X.shape, Y.shape)\n",
        "  return X, Y\n",
        "\n",
        "\n",
        "import random\n",
        "random.seed(42)\n",
        "random.shuffle(words)\n",
        "n1 = int(0.8*len(words))\n",
        "n2 = int(0.9*len(words))\n",
        "\n",
        "Xtr, Ytr = build_dataset(words[:n1])\n",
        "Xdev, Ydev = build_dataset(words[n1:n2])\n",
        "Xte, Yte = build_dataset(words[n2:])\n",
        "\n",
        "\n",
        "# Initialization\n",
        "g = torch.Generator().manual_seed(2147483647)\n",
        "C = torch.randn((27, 10), generator=g)\n",
        "W1 = torch.randn((30, 200), generator=g)\n",
        "b1 = torch.randn(200, generator=g)\n",
        "W2 = torch.randn((200, 27), generator=g)\n",
        "b2 = torch.randn(27, generator=g)\n",
        "parameters = [C, W1, b1, W2, b2]\n",
        "\n",
        "num_parameters = sum(p.nelement() for p in parameters)\n",
        "print(num_parameters)\n",
        "for p in parameters:\n",
        "  p.requires_grad = True"
      ],
      "metadata": {
        "colab": {
          "base_uri": "https://localhost:8080/"
        },
        "id": "fFehIyHmdk0p",
        "outputId": "64f3db0a-fd5a-481a-a9e7-5d8a10f154b4"
      },
      "execution_count": 142,
      "outputs": [
        {
          "output_type": "stream",
          "name": "stdout",
          "text": [
            "torch.Size([182441, 3]) torch.Size([182441])\n",
            "torch.Size([22902, 3]) torch.Size([22902])\n",
            "torch.Size([22803, 3]) torch.Size([22803])\n",
            "11897\n"
          ]
        }
      ]
    },
    {
      "cell_type": "code",
      "source": [
        "lre = torch.linspace(-3, 0, 1000)\n",
        "lrs = 10**lre"
      ],
      "metadata": {
        "id": "q7p3Pk7BkYUm"
      },
      "execution_count": 143,
      "outputs": []
    },
    {
      "cell_type": "code",
      "source": [
        "lri = []\n",
        "lossi = []\n",
        "steps = []"
      ],
      "metadata": {
        "id": "rdkniuVmrBxb"
      },
      "execution_count": 146,
      "outputs": []
    },
    {
      "cell_type": "code",
      "source": [
        "\n",
        "for i in range(30000):\n",
        "\n",
        "  ix = torch.randint(0, Xtr.shape[0], (32,))\n",
        "\n",
        "  # Forward Pass\n",
        "  emb = C[Xtr[ix]]\n",
        "  h = torch.tanh(emb.view(-1, 30) @ W1 + b1)\n",
        "  logits = h @ W2 + b2\n",
        "  # counts = logits.exp()\n",
        "  # prob = counts / counts.sum(1, keepdims=True)\n",
        "  # loss = -prob[torch.arange(32), Y].log().mean()\n",
        "  loss = F.cross_entropy(logits, Ytr[ix])\n",
        "\n",
        "  # Backward Pass\n",
        "  for p in parameters:\n",
        "    p.grad = None\n",
        "  loss.backward()\n",
        "\n",
        "  lr = 0.01\n",
        "  for p in parameters:\n",
        "    p.data += -lr * p.grad\n",
        "\n",
        "  lri.append(lr)\n",
        "  lossi.append(loss.item())\n",
        "  steps.append(i)"
      ],
      "metadata": {
        "id": "uyQvBsvJer3a"
      },
      "execution_count": 152,
      "outputs": []
    },
    {
      "cell_type": "code",
      "source": [
        "plt.plot(steps, lossi)"
      ],
      "metadata": {
        "colab": {
          "base_uri": "https://localhost:8080/",
          "height": 468
        },
        "id": "UnqX5VG3euB-",
        "outputId": "7abe0087-168f-449d-ca4a-40f936d65f53"
      },
      "execution_count": 153,
      "outputs": [
        {
          "output_type": "execute_result",
          "data": {
            "text/plain": [
              "[<matplotlib.lines.Line2D at 0x7ddbeab08e50>]"
            ]
          },
          "metadata": {},
          "execution_count": 153
        },
        {
          "output_type": "display_data",
          "data": {
            "text/plain": [
              "<Figure size 640x480 with 1 Axes>"
            ],
            "image/png": "[encoded data removed]"
          },
          "metadata": {}
        }
      ]
    },
    {
      "cell_type": "code",
      "source": [
        "loss"
      ],
      "metadata": {
        "colab": {
          "base_uri": "https://localhost:8080/"
        },
        "id": "B936-d3VmI_c",
        "outputId": "b2586a60-5b44-49f1-e957-cbd30581560a"
      },
      "execution_count": 154,
      "outputs": [
        {
          "output_type": "execute_result",
          "data": {
            "text/plain": [
              "tensor(2.2066, grad_fn=<NllLossBackward0>)"
            ]
          },
          "metadata": {},
          "execution_count": 154
        }
      ]
    },
    {
      "cell_type": "code",
      "source": [
        "# Finding loss on dev dataset\n",
        "emb = C[Xdev]\n",
        "h = torch.tanh(emb.view(-1, 30) @ W1 + b1)\n",
        "logits = h @ W2 + b2\n",
        "loss = F.cross_entropy(logits, Ydev)\n",
        "loss"
      ],
      "metadata": {
        "colab": {
          "base_uri": "https://localhost:8080/"
        },
        "id": "pfCeOpp6obly",
        "outputId": "4225bd69-8353-44fe-b98b-04b81fb4a24d"
      },
      "execution_count": 155,
      "outputs": [
        {
          "output_type": "execute_result",
          "data": {
            "text/plain": [
              "tensor(2.2005, grad_fn=<NllLossBackward0>)"
            ]
          },
          "metadata": {},
          "execution_count": 155
        }
      ]
    },
    {
      "cell_type": "code",
      "source": [
        "# Sample from NN model\n",
        "g = torch.Generator().manual_seed(2147483647)\n",
        "\n",
        "for i in range(50):\n",
        "  out = []\n",
        "  context = [0] * block_size\n",
        "\n",
        "  while True:\n",
        "    emb = C[torch.tensor([context])]\n",
        "    h = torch.tanh(emb.view(1, -1) @ W1 + b1)\n",
        "    logits = h @ W2 + b2\n",
        "    probs = F.softmax(logits, dim=1)\n",
        "\n",
        "    ix = torch.multinomial(probs, num_samples=1, generator=g).item()\n",
        "    context = context[1:] + [ix]\n",
        "    out.append(ix)\n",
        "    if ix == 0:\n",
        "      break\n",
        "  print(''.join(itos[i] for i in out))"
      ],
      "metadata": {
        "colab": {
          "base_uri": "https://localhost:8080/"
        },
        "id": "pDaQoiV4o1yI",
        "outputId": "b06e28e2-7614-4878-a2ff-eadd5eb11cb8"
      },
      "execution_count": 160,
      "outputs": [
        {
          "output_type": "stream",
          "name": "stdout",
          "text": [
            "junide.\n",
            "jakarie.\n",
            "presay.\n",
            "adin.\n",
            "kohinleigh.\n",
            "amarie.\n",
            "kalinah.\n",
            "zamilenias.\n",
            "dedailezie.\n",
            "lessin.\n",
            "evy.\n",
            "artelindellesif.\n",
            "demmerionnelina.\n",
            "jaylyn.\n",
            "reayaenockayda.\n",
            "brittinmiin.\n",
            "wyni.\n",
            "sanaasnasilianna.\n",
            "shadgonfridan.\n",
            "ilu.\n",
            "rephan.\n",
            "thon.\n",
            "jayreli.\n",
            "isa.\n",
            "dys.\n",
            "rumelum.\n",
            "mahkupwian.\n",
            "che.\n",
            "crarr.\n",
            "jend.\n",
            "adarta.\n",
            "malyn.\n",
            "bel.\n",
            "huli.\n",
            "lavarian.\n",
            "themielya.\n",
            "athi.\n",
            "moda.\n",
            "khalisatikiasalee.\n",
            "evin.\n",
            "noe.\n",
            "kambrenella.\n",
            "aneah.\n",
            "hwy.\n",
            "jolio.\n",
            "rid.\n",
            "dze.\n",
            "jialiya.\n",
            "raha.\n",
            "tezra.\n"
          ]
        }
      ]
    },
    {
      "cell_type": "code",
      "source": [],
      "metadata": {
        "id": "DP4X-fvisuCw"
      },
      "execution_count": null,
      "outputs": []
    }
  ]
}